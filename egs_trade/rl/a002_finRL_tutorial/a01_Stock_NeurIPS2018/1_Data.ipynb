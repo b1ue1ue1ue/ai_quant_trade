{
 "nbformat": 4,
 "nbformat_minor": 0,
 "metadata": {
  "colab": {
   "provenance": []
  },
  "kernelspec": {
   "name": "python3",
   "language": "python",
   "display_name": "Python 3 (ipykernel)"
  },
  "language_info": {
   "name": "python"
  }
 },
 "cells": [
  {
   "cell_type": "markdown",
   "source": [
    "# Stock NeurIPS2018 Part 1. Data\n",
    "This series is a reproduction of paper *the process in the paper Practical Deep Reinforcement Learning Approach for Stock Trading*. \n",
    "\n",
    "This is the first part of the NeurIPS2018 series, introducing how to use FinRL to fetch and process data that we need for ML/RL trading.\n",
    "\n",
    "Other demos can be found at the repo of [FinRL-Tutorials]((https://github.com/AI4Finance-Foundation/FinRL-Tutorials))."
   ],
   "metadata": {
    "id": "Sy8r7_g5WjAT"
   }
  },
  {
   "cell_type": "markdown",
   "source": [
    "# Part 1. Install Packages"
   ],
   "metadata": {
    "id": "2uH1KXctgnoJ"
   }
  },
  {
   "cell_type": "code",
   "execution_count": null,
   "metadata": {
    "id": "a2oD49e_N_05"
   },
   "outputs": [],
   "source": [
    "# ## install required packages\n",
    "# !pip install swig\n",
    "# !pip install wrds\n",
    "# !pip install pyportfolioopt\n",
    "# ## install finrl library\n",
    "!pip install git+https://github.com/AI4Finance-Foundation/FinRL.git"
   ]
  },
  {
   "cell_type": "code",
   "source": [
    "import pandas as pd\n",
    "import numpy as np\n",
    "import datetime\n",
    "import yfinance as yf\n",
    "\n",
    "from finrl.meta.preprocessor.yahoodownloader import YahooDownloader\n",
    "from finrl.meta.preprocessor.preprocessors import FeatureEngineer, data_split\n",
    "from finrl import config_tickers\n",
    "from finrl.config import INDICATORS\n",
    "\n",
    "import itertools"
   ],
   "metadata": {
    "id": "j37flV31OJGW",
    "ExecuteTime": {
     "end_time": "2024-11-05T09:41:13.266241Z",
     "start_time": "2024-11-05T09:41:05.528534Z"
    }
   },
   "execution_count": 1,
   "outputs": [
    {
     "name": "stderr",
     "output_type": "stream",
     "text": [
      "\n"
     ]
    }
   ]
  },
  {
   "cell_type": "markdown",
   "source": [
    "# Part 2. Fetch data"
   ],
   "metadata": {
    "id": "wxsN8i7tg07U"
   }
  },
  {
   "cell_type": "markdown",
   "source": [
    "[yfinance](https://github.com/ranaroussi/yfinance) is an open-source library that provides APIs fetching historical data form Yahoo Finance. In FinRL, we have a class called [YahooDownloader](https://github.com/AI4Finance-Foundation/FinRL/blob/master/finrl/meta/preprocessor/yahoodownloader.py) that use yfinance to fetch data from Yahoo Finance."
   ],
   "metadata": {
    "id": "fMNm9tCMXy8J"
   }
  },
  {
   "cell_type": "markdown",
   "source": [
    "**OHLCV**: Data downloaded are in the form of OHLCV, corresponding to **open, high, low, close, volume,** respectively. OHLCV is important because they contain most of numerical information of a stock in time series. From OHLCV, traders can get further judgement and prediction like the momentum, people's interest, market trends, etc."
   ],
   "metadata": {
    "id": "CWVXUkzaZE8m"
   }
  },
  {
   "cell_type": "markdown",
   "source": [
    "## Data for a single ticker"
   ],
   "metadata": {
    "id": "jRYlbdMpW9Np"
   }
  },
  {
   "cell_type": "markdown",
   "source": [
    "Here we provide two ways to fetch data with single ticker, let's take Apple Inc. (AAPL) as an example."
   ],
   "metadata": {
    "id": "1wo6pCQYXDbz"
   }
  },
  {
   "cell_type": "markdown",
   "source": [
    "### Using yfinance"
   ],
   "metadata": {
    "id": "yzVRe90WXLB1"
   }
  },
  {
   "cell_type": "code",
   "source": [
    "aapl_df_yf = yf.download(tickers = \"aapl\", start='2020-01-01', end='2020-01-31')"
   ],
   "metadata": {
    "colab": {
     "base_uri": "https://localhost:8080/"
    },
    "id": "SSl6mVV7XNw6",
    "outputId": "460c06eb-c71d-4ebb-fe17-481295d70cff",
    "ExecuteTime": {
     "end_time": "2024-11-05T09:41:54.796729Z",
     "start_time": "2024-11-05T09:41:52.262464Z"
    }
   },
   "execution_count": 2,
   "outputs": [
    {
     "name": "stderr",
     "output_type": "stream",
     "text": [
      "[*********************100%***********************]  1 of 1 completed\n"
     ]
    }
   ]
  },
  {
   "cell_type": "code",
   "source": [
    "aapl_df_yf.head()"
   ],
   "metadata": {
    "colab": {
     "base_uri": "https://localhost:8080/",
     "height": 238
    },
    "id": "Rjutz22rXrpR",
    "outputId": "62aadc8c-b854-403d-ac73-6cf86d53fa22",
    "ExecuteTime": {
     "end_time": "2024-11-05T09:42:00.007274Z",
     "start_time": "2024-11-05T09:41:59.990320Z"
    }
   },
   "execution_count": 3,
   "outputs": [
    {
     "data": {
      "text/plain": "Price                      Adj Close      Close       High        Low  \\\nTicker                          AAPL       AAPL       AAPL       AAPL   \nDate                                                                    \n2020-01-02 00:00:00+00:00  72.876122  75.087502  75.150002  73.797501   \n2020-01-03 00:00:00+00:00  72.167603  74.357498  75.144997  74.125000   \n2020-01-06 00:00:00+00:00  72.742661  74.949997  74.989998  73.187500   \n2020-01-07 00:00:00+00:00  72.400551  74.597504  75.224998  74.370003   \n2020-01-08 00:00:00+00:00  73.565208  75.797501  76.110001  74.290001   \n\nPrice                           Open     Volume  \nTicker                          AAPL       AAPL  \nDate                                             \n2020-01-02 00:00:00+00:00  74.059998  135480400  \n2020-01-03 00:00:00+00:00  74.287498  146322800  \n2020-01-06 00:00:00+00:00  73.447502  118387200  \n2020-01-07 00:00:00+00:00  74.959999  108872000  \n2020-01-08 00:00:00+00:00  74.290001  132079200  ",
      "text/html": "<div>\n<style scoped>\n    .dataframe tbody tr th:only-of-type {\n        vertical-align: middle;\n    }\n\n    .dataframe tbody tr th {\n        vertical-align: top;\n    }\n\n    .dataframe thead tr th {\n        text-align: left;\n    }\n\n    .dataframe thead tr:last-of-type th {\n        text-align: right;\n    }\n</style>\n<table border=\"1\" class=\"dataframe\">\n  <thead>\n    <tr>\n      <th>Price</th>\n      <th>Adj Close</th>\n      <th>Close</th>\n      <th>High</th>\n      <th>Low</th>\n      <th>Open</th>\n      <th>Volume</th>\n    </tr>\n    <tr>\n      <th>Ticker</th>\n      <th>AAPL</th>\n      <th>AAPL</th>\n      <th>AAPL</th>\n      <th>AAPL</th>\n      <th>AAPL</th>\n      <th>AAPL</th>\n    </tr>\n    <tr>\n      <th>Date</th>\n      <th></th>\n      <th></th>\n      <th></th>\n      <th></th>\n      <th></th>\n      <th></th>\n    </tr>\n  </thead>\n  <tbody>\n    <tr>\n      <th>2020-01-02 00:00:00+00:00</th>\n      <td>72.876122</td>\n      <td>75.087502</td>\n      <td>75.150002</td>\n      <td>73.797501</td>\n      <td>74.059998</td>\n      <td>135480400</td>\n    </tr>\n    <tr>\n      <th>2020-01-03 00:00:00+00:00</th>\n      <td>72.167603</td>\n      <td>74.357498</td>\n      <td>75.144997</td>\n      <td>74.125000</td>\n      <td>74.287498</td>\n      <td>146322800</td>\n    </tr>\n    <tr>\n      <th>2020-01-06 00:00:00+00:00</th>\n      <td>72.742661</td>\n      <td>74.949997</td>\n      <td>74.989998</td>\n      <td>73.187500</td>\n      <td>73.447502</td>\n      <td>118387200</td>\n    </tr>\n    <tr>\n      <th>2020-01-07 00:00:00+00:00</th>\n      <td>72.400551</td>\n      <td>74.597504</td>\n      <td>75.224998</td>\n      <td>74.370003</td>\n      <td>74.959999</td>\n      <td>108872000</td>\n    </tr>\n    <tr>\n      <th>2020-01-08 00:00:00+00:00</th>\n      <td>73.565208</td>\n      <td>75.797501</td>\n      <td>76.110001</td>\n      <td>74.290001</td>\n      <td>74.290001</td>\n      <td>132079200</td>\n    </tr>\n  </tbody>\n</table>\n</div>"
     },
     "execution_count": 3,
     "metadata": {},
     "output_type": "execute_result"
    }
   ]
  },
  {
   "cell_type": "markdown",
   "source": [
    "### Using FinRL"
   ],
   "metadata": {
    "id": "fHZLDmnsXOK0"
   }
  },
  {
   "cell_type": "markdown",
   "source": [
    "In FinRL's YahooDownloader, we modified the data frame to the form that convenient for further data processing process. We use adjusted close price instead of close price, and add a column representing the day of a week (0-4 corresponding to Monday-Friday)."
   ],
   "metadata": {
    "id": "VFB77ohNbXCc"
   }
  },
  {
   "cell_type": "code",
   "source": [
    "aapl_df_finrl = YahooDownloader(start_date = '2020-01-01',\n",
    "                                end_date = '2020-01-31',\n",
    "                                ticker_list = ['aapl']).fetch_data()"
   ],
   "metadata": {
    "colab": {
     "base_uri": "https://localhost:8080/"
    },
    "id": "7ufDHvt4XBWT",
    "outputId": "41603042-4f14-4814-c569-305d85fa7f9d",
    "ExecuteTime": {
     "end_time": "2024-11-05T09:42:23.749750Z",
     "start_time": "2024-11-05T09:42:23.710855Z"
    }
   },
   "execution_count": 4,
   "outputs": [
    {
     "name": "stderr",
     "output_type": "stream",
     "text": [
      "[*********************100%***********************]  1 of 1 completed"
     ]
    },
    {
     "name": "stdout",
     "output_type": "stream",
     "text": [
      "Shape of DataFrame:  (20, 8)\n"
     ]
    },
    {
     "name": "stderr",
     "output_type": "stream",
     "text": [
      "\n"
     ]
    }
   ]
  },
  {
   "cell_type": "code",
   "source": [
    "aapl_df_finrl.head()"
   ],
   "metadata": {
    "colab": {
     "base_uri": "https://localhost:8080/",
     "height": 206
    },
    "id": "_TgEjXxhXtT_",
    "outputId": "a8e8a9e2-a1ea-472e-eddf-2227e6c901d8",
    "ExecuteTime": {
     "end_time": "2024-11-05T09:42:29.322751Z",
     "start_time": "2024-11-05T09:42:29.306795Z"
    }
   },
   "execution_count": 5,
   "outputs": [
    {
     "data": {
      "text/plain": "         date       open       high        low      close     volume   tic  \\\n0  2020-01-02  72.876122  75.087502  75.150002  74.059998  135480400  aapl   \n1  2020-01-03  72.167603  74.357498  75.144997  74.287498  146322800  aapl   \n2  2020-01-06  72.742661  74.949997  74.989998  73.447502  118387200  aapl   \n3  2020-01-07  72.400551  74.597504  75.224998  74.959999  108872000  aapl   \n4  2020-01-08  73.565208  75.797501  76.110001  74.290001  132079200  aapl   \n\n   day  \n0    3  \n1    4  \n2    0  \n3    1  \n4    2  ",
      "text/html": "<div>\n<style scoped>\n    .dataframe tbody tr th:only-of-type {\n        vertical-align: middle;\n    }\n\n    .dataframe tbody tr th {\n        vertical-align: top;\n    }\n\n    .dataframe thead th {\n        text-align: right;\n    }\n</style>\n<table border=\"1\" class=\"dataframe\">\n  <thead>\n    <tr style=\"text-align: right;\">\n      <th></th>\n      <th>date</th>\n      <th>open</th>\n      <th>high</th>\n      <th>low</th>\n      <th>close</th>\n      <th>volume</th>\n      <th>tic</th>\n      <th>day</th>\n    </tr>\n  </thead>\n  <tbody>\n    <tr>\n      <th>0</th>\n      <td>2020-01-02</td>\n      <td>72.876122</td>\n      <td>75.087502</td>\n      <td>75.150002</td>\n      <td>74.059998</td>\n      <td>135480400</td>\n      <td>aapl</td>\n      <td>3</td>\n    </tr>\n    <tr>\n      <th>1</th>\n      <td>2020-01-03</td>\n      <td>72.167603</td>\n      <td>74.357498</td>\n      <td>75.144997</td>\n      <td>74.287498</td>\n      <td>146322800</td>\n      <td>aapl</td>\n      <td>4</td>\n    </tr>\n    <tr>\n      <th>2</th>\n      <td>2020-01-06</td>\n      <td>72.742661</td>\n      <td>74.949997</td>\n      <td>74.989998</td>\n      <td>73.447502</td>\n      <td>118387200</td>\n      <td>aapl</td>\n      <td>0</td>\n    </tr>\n    <tr>\n      <th>3</th>\n      <td>2020-01-07</td>\n      <td>72.400551</td>\n      <td>74.597504</td>\n      <td>75.224998</td>\n      <td>74.959999</td>\n      <td>108872000</td>\n      <td>aapl</td>\n      <td>1</td>\n    </tr>\n    <tr>\n      <th>4</th>\n      <td>2020-01-08</td>\n      <td>73.565208</td>\n      <td>75.797501</td>\n      <td>76.110001</td>\n      <td>74.290001</td>\n      <td>132079200</td>\n      <td>aapl</td>\n      <td>2</td>\n    </tr>\n  </tbody>\n</table>\n</div>"
     },
     "execution_count": 5,
     "metadata": {},
     "output_type": "execute_result"
    }
   ]
  },
  {
   "cell_type": "markdown",
   "source": [
    "## Data for the chosen tickers"
   ],
   "metadata": {
    "id": "9kcOE5nbic6R"
   }
  },
  {
   "cell_type": "code",
   "source": [
    "config_tickers.DOW_30_TICKER"
   ],
   "metadata": {
    "colab": {
     "base_uri": "https://localhost:8080/"
    },
    "id": "FKBjtAo2uIq5",
    "outputId": "927f682a-9cc3-4c11-c3f1-094ae811af6b",
    "ExecuteTime": {
     "end_time": "2024-11-05T09:42:42.320927Z",
     "start_time": "2024-11-05T09:42:42.314945Z"
    }
   },
   "execution_count": 6,
   "outputs": [
    {
     "data": {
      "text/plain": "['AXP',\n 'AMGN',\n 'AAPL',\n 'BA',\n 'CAT',\n 'CSCO',\n 'CVX',\n 'GS',\n 'HD',\n 'HON',\n 'IBM',\n 'INTC',\n 'JNJ',\n 'KO',\n 'JPM',\n 'MCD',\n 'MMM',\n 'MRK',\n 'MSFT',\n 'NKE',\n 'PG',\n 'TRV',\n 'UNH',\n 'CRM',\n 'VZ',\n 'V',\n 'WBA',\n 'WMT',\n 'DIS',\n 'DOW']"
     },
     "execution_count": 6,
     "metadata": {},
     "output_type": "execute_result"
    }
   ]
  },
  {
   "cell_type": "code",
   "source": [
    "TRAIN_START_DATE = '2009-01-01'\n",
    "TRAIN_END_DATE = '2020-07-01'\n",
    "TRADE_START_DATE = '2020-07-01'\n",
    "TRADE_END_DATE = '2021-10-29'"
   ],
   "metadata": {
    "id": "9xTPG4Fhc-zL",
    "ExecuteTime": {
     "end_time": "2024-11-05T09:43:06.671741Z",
     "start_time": "2024-11-05T09:43:06.664760Z"
    }
   },
   "execution_count": 7,
   "outputs": []
  },
  {
   "cell_type": "code",
   "source": [
    "df_raw = YahooDownloader(start_date = TRAIN_START_DATE,\n",
    "                     end_date = TRADE_END_DATE,\n",
    "                     ticker_list = config_tickers.DOW_30_TICKER).fetch_data()"
   ],
   "metadata": {
    "colab": {
     "base_uri": "https://localhost:8080/"
    },
    "id": "9LblMI8CO0F3",
    "outputId": "7be76385-50eb-4e8d-f2e5-1795d77b70ba",
    "ExecuteTime": {
     "end_time": "2024-11-05T09:43:20.940701Z",
     "start_time": "2024-11-05T09:43:08.894616Z"
    }
   },
   "execution_count": 8,
   "outputs": [
    {
     "name": "stderr",
     "output_type": "stream",
     "text": [
      "[*********************100%***********************]  1 of 1 completed\n",
      "[*********************100%***********************]  1 of 1 completed\n",
      "[*********************100%***********************]  1 of 1 completed\n",
      "[*********************100%***********************]  1 of 1 completed\n",
      "[*********************100%***********************]  1 of 1 completed\n",
      "[*********************100%***********************]  1 of 1 completed\n",
      "[*********************100%***********************]  1 of 1 completed\n",
      "[*********************100%***********************]  1 of 1 completed\n",
      "[*********************100%***********************]  1 of 1 completed\n",
      "[*********************100%***********************]  1 of 1 completed\n",
      "[*********************100%***********************]  1 of 1 completed\n",
      "[*********************100%***********************]  1 of 1 completed\n",
      "[*********************100%***********************]  1 of 1 completed\n",
      "[*********************100%***********************]  1 of 1 completed\n",
      "[*********************100%***********************]  1 of 1 completed\n",
      "[*********************100%***********************]  1 of 1 completed\n",
      "[*********************100%***********************]  1 of 1 completed\n",
      "[*********************100%***********************]  1 of 1 completed\n",
      "[*********************100%***********************]  1 of 1 completed\n",
      "[*********************100%***********************]  1 of 1 completed\n",
      "[*********************100%***********************]  1 of 1 completed\n",
      "[*********************100%***********************]  1 of 1 completed\n",
      "[*********************100%***********************]  1 of 1 completed\n",
      "[*********************100%***********************]  1 of 1 completed\n",
      "[*********************100%***********************]  1 of 1 completed\n",
      "[*********************100%***********************]  1 of 1 completed\n",
      "[*********************100%***********************]  1 of 1 completed\n",
      "[*********************100%***********************]  1 of 1 completed\n",
      "[*********************100%***********************]  1 of 1 completed\n",
      "[*********************100%***********************]  1 of 1 completed\n"
     ]
    },
    {
     "name": "stdout",
     "output_type": "stream",
     "text": [
      "Shape of DataFrame:  (94301, 8)\n"
     ]
    }
   ]
  },
  {
   "cell_type": "code",
   "source": [
    "df_raw.head()"
   ],
   "metadata": {
    "colab": {
     "base_uri": "https://localhost:8080/",
     "height": 206
    },
    "id": "RD9cjHzt8X3A",
    "outputId": "051acda5-c8fd-440a-a5af-6be04cfdc018",
    "ExecuteTime": {
     "end_time": "2024-11-05T09:43:23.801292Z",
     "start_time": "2024-11-05T09:43:23.784337Z"
    }
   },
   "execution_count": 9,
   "outputs": [
    {
     "data": {
      "text/plain": "         date       open       high        low      close     volume   tic  \\\n0  2009-01-02   2.737005   3.241071   3.251429   3.067143  746015200  AAPL   \n1  2009-01-02  41.816147  58.990002  59.080002  58.590000    6547900  AMGN   \n2  2009-01-02  15.014067  19.330000  19.520000  18.570000   10955700   AXP   \n3  2009-01-02  33.941101  45.250000  45.560001  42.799999    7010200    BA   \n4  2009-01-02  30.602570  46.910000  46.980000  44.910000    7117200   CAT   \n\n   day  \n0    4  \n1    4  \n2    4  \n3    4  \n4    4  ",
      "text/html": "<div>\n<style scoped>\n    .dataframe tbody tr th:only-of-type {\n        vertical-align: middle;\n    }\n\n    .dataframe tbody tr th {\n        vertical-align: top;\n    }\n\n    .dataframe thead th {\n        text-align: right;\n    }\n</style>\n<table border=\"1\" class=\"dataframe\">\n  <thead>\n    <tr style=\"text-align: right;\">\n      <th></th>\n      <th>date</th>\n      <th>open</th>\n      <th>high</th>\n      <th>low</th>\n      <th>close</th>\n      <th>volume</th>\n      <th>tic</th>\n      <th>day</th>\n    </tr>\n  </thead>\n  <tbody>\n    <tr>\n      <th>0</th>\n      <td>2009-01-02</td>\n      <td>2.737005</td>\n      <td>3.241071</td>\n      <td>3.251429</td>\n      <td>3.067143</td>\n      <td>746015200</td>\n      <td>AAPL</td>\n      <td>4</td>\n    </tr>\n    <tr>\n      <th>1</th>\n      <td>2009-01-02</td>\n      <td>41.816147</td>\n      <td>58.990002</td>\n      <td>59.080002</td>\n      <td>58.590000</td>\n      <td>6547900</td>\n      <td>AMGN</td>\n      <td>4</td>\n    </tr>\n    <tr>\n      <th>2</th>\n      <td>2009-01-02</td>\n      <td>15.014067</td>\n      <td>19.330000</td>\n      <td>19.520000</td>\n      <td>18.570000</td>\n      <td>10955700</td>\n      <td>AXP</td>\n      <td>4</td>\n    </tr>\n    <tr>\n      <th>3</th>\n      <td>2009-01-02</td>\n      <td>33.941101</td>\n      <td>45.250000</td>\n      <td>45.560001</td>\n      <td>42.799999</td>\n      <td>7010200</td>\n      <td>BA</td>\n      <td>4</td>\n    </tr>\n    <tr>\n      <th>4</th>\n      <td>2009-01-02</td>\n      <td>30.602570</td>\n      <td>46.910000</td>\n      <td>46.980000</td>\n      <td>44.910000</td>\n      <td>7117200</td>\n      <td>CAT</td>\n      <td>4</td>\n    </tr>\n  </tbody>\n</table>\n</div>"
     },
     "execution_count": 9,
     "metadata": {},
     "output_type": "execute_result"
    }
   ]
  },
  {
   "cell_type": "markdown",
   "metadata": {
    "id": "uqC6c40Zh1iH"
   },
   "source": [
    "# Part 3: Preprocess Data\n",
    "We need to check for missing data and do feature engineering to convert the data point into a state.\n",
    "* **Adding technical indicators**. In practical trading, various information needs to be taken into account, such as historical prices, current holding shares, technical indicators, etc. Here, we demonstrate two trend-following technical indicators: MACD and RSI.\n",
    "* **Adding turbulence index**. Risk-aversion reflects whether an investor prefers to protect the capital. It also influences one's trading strategy when facing different market volatility level. To control the risk in a worst-case scenario, such as financial crisis of 2007–2008, FinRL employs the turbulence index that measures extreme fluctuation of asset price."
   ]
  },
  {
   "cell_type": "markdown",
   "source": [
    "Hear let's take **MACD** as an example. Moving average convergence/divergence (MACD) is one of the most commonly used indicator showing bull and bear market. Its calculation is based on EMA (Exponential Moving Average indicator, measuring trend direction over a period of time.)"
   ],
   "metadata": {
    "id": "1lQxLyWpdbAd"
   }
  },
  {
   "cell_type": "code",
   "execution_count": 14,
   "metadata": {
    "id": "PmKP-1ii3RLS",
    "colab": {
     "base_uri": "https://localhost:8080/"
    },
    "outputId": "d514cf1a-8609-402e-ad58-df5f9100ec85",
    "ExecuteTime": {
     "end_time": "2024-11-05T09:46:53.209045Z",
     "start_time": "2024-11-05T09:46:20.474246Z"
    }
   },
   "outputs": [
    {
     "name": "stdout",
     "output_type": "stream",
     "text": [
      "Successfully added technical indicators\n"
     ]
    },
    {
     "name": "stderr",
     "output_type": "stream",
     "text": [
      "[*********************100%***********************]  1 of 1 completed\n"
     ]
    },
    {
     "name": "stdout",
     "output_type": "stream",
     "text": [
      "Shape of DataFrame:  (3228, 8)\n",
      "Successfully added vix\n",
      "Successfully added turbulence index\n"
     ]
    }
   ],
   "source": [
    "fe = FeatureEngineer(use_technical_indicator=True,\n",
    "                     tech_indicator_list = INDICATORS,\n",
    "                     use_vix=True,\n",
    "                     use_turbulence=True,\n",
    "                     user_defined_feature = False)\n",
    "\n",
    "processed = fe.preprocess_data(df_raw)"
   ]
  },
  {
   "cell_type": "code",
   "execution_count": 15,
   "metadata": {
    "id": "Kixon2tR3RLT",
    "ExecuteTime": {
     "end_time": "2024-11-05T09:47:49.473168Z",
     "start_time": "2024-11-05T09:47:49.315337Z"
    }
   },
   "outputs": [],
   "source": [
    "list_ticker = processed[\"tic\"].unique().tolist()\n",
    "list_date = list(pd.date_range(processed['date'].min(),processed['date'].max()).astype(str))\n",
    "combination = list(itertools.product(list_date,list_ticker))\n",
    "\n",
    "processed_full = pd.DataFrame(combination,columns=[\"date\",\"tic\"]).merge(processed,on=[\"date\",\"tic\"],how=\"left\")\n",
    "processed_full = processed_full[processed_full['date'].isin(processed['date'])]\n",
    "processed_full = processed_full.sort_values(['date','tic'])\n",
    "\n",
    "processed_full = processed_full.fillna(0)"
   ]
  },
  {
   "cell_type": "code",
   "source": [
    "processed_full[:100]"
   ],
   "metadata": {
    "colab": {
     "base_uri": "https://localhost:8080/",
     "height": 357
    },
    "id": "HwKJNWJSabNK",
    "outputId": "16c8080e-91b0-4e8d-9a09-44939ac69801",
    "ExecuteTime": {
     "end_time": "2024-11-05T09:48:03.854014Z",
     "start_time": "2024-11-05T09:48:03.835064Z"
    }
   },
   "execution_count": 17,
   "outputs": [
    {
     "data": {
      "text/plain": "           date   tic       open       high        low      close  \\\n0    2009-01-02  AAPL   2.737005   3.241071   3.251429   3.067143   \n1    2009-01-02  AMGN  41.816147  58.990002  59.080002  58.590000   \n2    2009-01-02   AXP  15.014067  19.330000  19.520000  18.570000   \n3    2009-01-02    BA  33.941101  45.250000  45.560001  42.799999   \n4    2009-01-02   CAT  30.602570  46.910000  46.980000  44.910000   \n..          ...   ...        ...        ...        ...        ...   \n153  2009-01-07   DIS  19.804075  23.180000  23.889999  23.889999   \n154  2009-01-07    GS  64.605095  84.500000  87.849998  86.910004   \n155  2009-01-07    HD  16.634567  24.570000  25.160000  24.870001   \n156  2009-01-07   HON  22.958591  32.843578  33.959023  33.959023   \n157  2009-01-07   IBM  48.968174  83.929253  84.894836  83.967499   \n\n          volume  day      macd    boll_ub    boll_lb      rsi_30     cci_30  \\\n0    746015200.0  4.0  0.000000   3.565522   2.829121  100.000000  66.666667   \n1      6547900.0  4.0  0.000000   3.565522   2.829121  100.000000  66.666667   \n2     10955700.0  4.0  0.000000   3.565522   2.829121  100.000000  66.666667   \n3      7010200.0  4.0  0.000000   3.565522   2.829121  100.000000  66.666667   \n4      7117200.0  4.0  0.000000   3.565522   2.829121  100.000000  66.666667   \n..           ...  ...       ...        ...        ...         ...        ...   \n153   12300700.0  2.0  0.039208  24.522499  22.462501  100.000000 -38.681878   \n154   12465500.0  2.0  0.129619  91.762560  81.632441   64.763956 -60.580318   \n155   19857300.0  2.0  0.067429  25.977447  22.472554   96.210202  39.193458   \n156    5969983.0  2.0  0.087388  35.003647  30.702581  100.000000  36.240193   \n157    8844035.0  2.0  0.128330  85.794998  79.238465  100.000000  39.439105   \n\n          dx_30  close_30_sma  close_60_sma        vix  turbulence  \n0    100.000000      3.067143      3.067143  39.580002         0.0  \n1    100.000000     58.590000     58.590000  39.580002         0.0  \n2    100.000000     18.570000     18.570000  39.580002         0.0  \n3    100.000000     42.799999     42.799999  39.580002         0.0  \n4    100.000000     44.910000     44.910000  39.580002         0.0  \n..          ...           ...           ...        ...         ...  \n153   12.094781     23.492500     23.492500  40.290001         0.0  \n154   42.208903     86.697500     86.697500  40.290001         0.0  \n155   51.186783     24.225000     24.225000  40.290001         0.0  \n156   22.217434     32.853114     32.853114  40.290001         0.0  \n157   16.677561     82.516731     82.516731  40.290001         0.0  \n\n[100 rows x 18 columns]",
      "text/html": "<div>\n<style scoped>\n    .dataframe tbody tr th:only-of-type {\n        vertical-align: middle;\n    }\n\n    .dataframe tbody tr th {\n        vertical-align: top;\n    }\n\n    .dataframe thead th {\n        text-align: right;\n    }\n</style>\n<table border=\"1\" class=\"dataframe\">\n  <thead>\n    <tr style=\"text-align: right;\">\n      <th></th>\n      <th>date</th>\n      <th>tic</th>\n      <th>open</th>\n      <th>high</th>\n      <th>low</th>\n      <th>close</th>\n      <th>volume</th>\n      <th>day</th>\n      <th>macd</th>\n      <th>boll_ub</th>\n      <th>boll_lb</th>\n      <th>rsi_30</th>\n      <th>cci_30</th>\n      <th>dx_30</th>\n      <th>close_30_sma</th>\n      <th>close_60_sma</th>\n      <th>vix</th>\n      <th>turbulence</th>\n    </tr>\n  </thead>\n  <tbody>\n    <tr>\n      <th>0</th>\n      <td>2009-01-02</td>\n      <td>AAPL</td>\n      <td>2.737005</td>\n      <td>3.241071</td>\n      <td>3.251429</td>\n      <td>3.067143</td>\n      <td>746015200.0</td>\n      <td>4.0</td>\n      <td>0.000000</td>\n      <td>3.565522</td>\n      <td>2.829121</td>\n      <td>100.000000</td>\n      <td>66.666667</td>\n      <td>100.000000</td>\n      <td>3.067143</td>\n      <td>3.067143</td>\n      <td>39.580002</td>\n      <td>0.0</td>\n    </tr>\n    <tr>\n      <th>1</th>\n      <td>2009-01-02</td>\n      <td>AMGN</td>\n      <td>41.816147</td>\n      <td>58.990002</td>\n      <td>59.080002</td>\n      <td>58.590000</td>\n      <td>6547900.0</td>\n      <td>4.0</td>\n      <td>0.000000</td>\n      <td>3.565522</td>\n      <td>2.829121</td>\n      <td>100.000000</td>\n      <td>66.666667</td>\n      <td>100.000000</td>\n      <td>58.590000</td>\n      <td>58.590000</td>\n      <td>39.580002</td>\n      <td>0.0</td>\n    </tr>\n    <tr>\n      <th>2</th>\n      <td>2009-01-02</td>\n      <td>AXP</td>\n      <td>15.014067</td>\n      <td>19.330000</td>\n      <td>19.520000</td>\n      <td>18.570000</td>\n      <td>10955700.0</td>\n      <td>4.0</td>\n      <td>0.000000</td>\n      <td>3.565522</td>\n      <td>2.829121</td>\n      <td>100.000000</td>\n      <td>66.666667</td>\n      <td>100.000000</td>\n      <td>18.570000</td>\n      <td>18.570000</td>\n      <td>39.580002</td>\n      <td>0.0</td>\n    </tr>\n    <tr>\n      <th>3</th>\n      <td>2009-01-02</td>\n      <td>BA</td>\n      <td>33.941101</td>\n      <td>45.250000</td>\n      <td>45.560001</td>\n      <td>42.799999</td>\n      <td>7010200.0</td>\n      <td>4.0</td>\n      <td>0.000000</td>\n      <td>3.565522</td>\n      <td>2.829121</td>\n      <td>100.000000</td>\n      <td>66.666667</td>\n      <td>100.000000</td>\n      <td>42.799999</td>\n      <td>42.799999</td>\n      <td>39.580002</td>\n      <td>0.0</td>\n    </tr>\n    <tr>\n      <th>4</th>\n      <td>2009-01-02</td>\n      <td>CAT</td>\n      <td>30.602570</td>\n      <td>46.910000</td>\n      <td>46.980000</td>\n      <td>44.910000</td>\n      <td>7117200.0</td>\n      <td>4.0</td>\n      <td>0.000000</td>\n      <td>3.565522</td>\n      <td>2.829121</td>\n      <td>100.000000</td>\n      <td>66.666667</td>\n      <td>100.000000</td>\n      <td>44.910000</td>\n      <td>44.910000</td>\n      <td>39.580002</td>\n      <td>0.0</td>\n    </tr>\n    <tr>\n      <th>...</th>\n      <td>...</td>\n      <td>...</td>\n      <td>...</td>\n      <td>...</td>\n      <td>...</td>\n      <td>...</td>\n      <td>...</td>\n      <td>...</td>\n      <td>...</td>\n      <td>...</td>\n      <td>...</td>\n      <td>...</td>\n      <td>...</td>\n      <td>...</td>\n      <td>...</td>\n      <td>...</td>\n      <td>...</td>\n      <td>...</td>\n    </tr>\n    <tr>\n      <th>153</th>\n      <td>2009-01-07</td>\n      <td>DIS</td>\n      <td>19.804075</td>\n      <td>23.180000</td>\n      <td>23.889999</td>\n      <td>23.889999</td>\n      <td>12300700.0</td>\n      <td>2.0</td>\n      <td>0.039208</td>\n      <td>24.522499</td>\n      <td>22.462501</td>\n      <td>100.000000</td>\n      <td>-38.681878</td>\n      <td>12.094781</td>\n      <td>23.492500</td>\n      <td>23.492500</td>\n      <td>40.290001</td>\n      <td>0.0</td>\n    </tr>\n    <tr>\n      <th>154</th>\n      <td>2009-01-07</td>\n      <td>GS</td>\n      <td>64.605095</td>\n      <td>84.500000</td>\n      <td>87.849998</td>\n      <td>86.910004</td>\n      <td>12465500.0</td>\n      <td>2.0</td>\n      <td>0.129619</td>\n      <td>91.762560</td>\n      <td>81.632441</td>\n      <td>64.763956</td>\n      <td>-60.580318</td>\n      <td>42.208903</td>\n      <td>86.697500</td>\n      <td>86.697500</td>\n      <td>40.290001</td>\n      <td>0.0</td>\n    </tr>\n    <tr>\n      <th>155</th>\n      <td>2009-01-07</td>\n      <td>HD</td>\n      <td>16.634567</td>\n      <td>24.570000</td>\n      <td>25.160000</td>\n      <td>24.870001</td>\n      <td>19857300.0</td>\n      <td>2.0</td>\n      <td>0.067429</td>\n      <td>25.977447</td>\n      <td>22.472554</td>\n      <td>96.210202</td>\n      <td>39.193458</td>\n      <td>51.186783</td>\n      <td>24.225000</td>\n      <td>24.225000</td>\n      <td>40.290001</td>\n      <td>0.0</td>\n    </tr>\n    <tr>\n      <th>156</th>\n      <td>2009-01-07</td>\n      <td>HON</td>\n      <td>22.958591</td>\n      <td>32.843578</td>\n      <td>33.959023</td>\n      <td>33.959023</td>\n      <td>5969983.0</td>\n      <td>2.0</td>\n      <td>0.087388</td>\n      <td>35.003647</td>\n      <td>30.702581</td>\n      <td>100.000000</td>\n      <td>36.240193</td>\n      <td>22.217434</td>\n      <td>32.853114</td>\n      <td>32.853114</td>\n      <td>40.290001</td>\n      <td>0.0</td>\n    </tr>\n    <tr>\n      <th>157</th>\n      <td>2009-01-07</td>\n      <td>IBM</td>\n      <td>48.968174</td>\n      <td>83.929253</td>\n      <td>84.894836</td>\n      <td>83.967499</td>\n      <td>8844035.0</td>\n      <td>2.0</td>\n      <td>0.128330</td>\n      <td>85.794998</td>\n      <td>79.238465</td>\n      <td>100.000000</td>\n      <td>39.439105</td>\n      <td>16.677561</td>\n      <td>82.516731</td>\n      <td>82.516731</td>\n      <td>40.290001</td>\n      <td>0.0</td>\n    </tr>\n  </tbody>\n</table>\n<p>100 rows × 18 columns</p>\n</div>"
     },
     "execution_count": 17,
     "metadata": {},
     "output_type": "execute_result"
    }
   ]
  },
  {
   "cell_type": "markdown",
   "source": [
    "# Part 4: Save the Data"
   ],
   "metadata": {
    "id": "ydLNxwdPIJhW"
   }
  },
  {
   "cell_type": "markdown",
   "source": [
    "### Split the data for training and trading"
   ],
   "metadata": {
    "id": "VbMDnfukILc_"
   }
  },
  {
   "cell_type": "code",
   "source": [
    "train = data_split(processed_full, TRAIN_START_DATE,TRAIN_END_DATE)\n",
    "trade = data_split(processed_full, TRADE_START_DATE,TRADE_END_DATE)\n",
    "print(len(train))\n",
    "print(len(trade))"
   ],
   "metadata": {
    "colab": {
     "base_uri": "https://localhost:8080/"
    },
    "id": "iEiXDdUhZP7R",
    "outputId": "554b1c09-6d6f-48fb-c724-351b40a2ddaf",
    "ExecuteTime": {
     "end_time": "2024-11-05T09:48:44.735789Z",
     "start_time": "2024-11-05T09:48:44.674830Z"
    }
   },
   "execution_count": 18,
   "outputs": [
    {
     "name": "stdout",
     "output_type": "stream",
     "text": [
      "83897\n",
      "9715\n"
     ]
    }
   ]
  },
  {
   "cell_type": "markdown",
   "source": [
    "### Save data to csv file"
   ],
   "metadata": {
    "id": "DflbzEV8IRhF"
   }
  },
  {
   "cell_type": "markdown",
   "source": [
    "For Colab users, you can open the virtual directory in colab and manually download the files.\n",
    "\n",
    "For users running on your local environment, the csv files should be at the same directory of this notebook."
   ],
   "metadata": {
    "id": "Tud3IZDzIUpd"
   }
  },
  {
   "cell_type": "code",
   "source": [
    "train.to_csv('train_data.csv')\n",
    "trade.to_csv('trade_data.csv')"
   ],
   "metadata": {
    "id": "j2c12CpfHEjE",
    "ExecuteTime": {
     "end_time": "2024-11-05T09:50:30.505917Z",
     "start_time": "2024-11-05T09:50:28.780018Z"
    }
   },
   "execution_count": 20,
   "outputs": []
  }
 ]
}
